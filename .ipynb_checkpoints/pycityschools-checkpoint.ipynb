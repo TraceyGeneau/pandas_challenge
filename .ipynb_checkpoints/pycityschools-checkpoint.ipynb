{
 "cells": [
  {
   "cell_type": "markdown",
   "id": "201cc0ce",
   "metadata": {},
   "source": [
    "# PyCity Schools Analysis\n",
    "to right in here double click. Select as Mark down then run"
   ]
  },
  {
   "cell_type": "code",
   "execution_count": 2,
   "id": "e8f365d1",
   "metadata": {},
   "outputs": [
    {
     "data": {
      "text/html": [
       "<div>\n",
       "<style scoped>\n",
       "    .dataframe tbody tr th:only-of-type {\n",
       "        vertical-align: middle;\n",
       "    }\n",
       "\n",
       "    .dataframe tbody tr th {\n",
       "        vertical-align: top;\n",
       "    }\n",
       "\n",
       "    .dataframe thead th {\n",
       "        text-align: right;\n",
       "    }\n",
       "</style>\n",
       "<table border=\"1\" class=\"dataframe\">\n",
       "  <thead>\n",
       "    <tr style=\"text-align: right;\">\n",
       "      <th></th>\n",
       "      <th>Student ID</th>\n",
       "      <th>student_name</th>\n",
       "      <th>gender</th>\n",
       "      <th>grade</th>\n",
       "      <th>school_name</th>\n",
       "      <th>reading_score</th>\n",
       "      <th>math_score</th>\n",
       "      <th>School ID</th>\n",
       "      <th>type</th>\n",
       "      <th>size</th>\n",
       "      <th>budget</th>\n",
       "    </tr>\n",
       "  </thead>\n",
       "  <tbody>\n",
       "    <tr>\n",
       "      <th>0</th>\n",
       "      <td>0</td>\n",
       "      <td>Paul Bradley</td>\n",
       "      <td>M</td>\n",
       "      <td>9th</td>\n",
       "      <td>Huang High School</td>\n",
       "      <td>66</td>\n",
       "      <td>79</td>\n",
       "      <td>0</td>\n",
       "      <td>District</td>\n",
       "      <td>2917</td>\n",
       "      <td>1910635</td>\n",
       "    </tr>\n",
       "    <tr>\n",
       "      <th>1</th>\n",
       "      <td>1</td>\n",
       "      <td>Victor Smith</td>\n",
       "      <td>M</td>\n",
       "      <td>12th</td>\n",
       "      <td>Huang High School</td>\n",
       "      <td>94</td>\n",
       "      <td>61</td>\n",
       "      <td>0</td>\n",
       "      <td>District</td>\n",
       "      <td>2917</td>\n",
       "      <td>1910635</td>\n",
       "    </tr>\n",
       "    <tr>\n",
       "      <th>2</th>\n",
       "      <td>2</td>\n",
       "      <td>Kevin Rodriguez</td>\n",
       "      <td>M</td>\n",
       "      <td>12th</td>\n",
       "      <td>Huang High School</td>\n",
       "      <td>90</td>\n",
       "      <td>60</td>\n",
       "      <td>0</td>\n",
       "      <td>District</td>\n",
       "      <td>2917</td>\n",
       "      <td>1910635</td>\n",
       "    </tr>\n",
       "    <tr>\n",
       "      <th>3</th>\n",
       "      <td>3</td>\n",
       "      <td>Dr. Richard Scott</td>\n",
       "      <td>M</td>\n",
       "      <td>12th</td>\n",
       "      <td>Huang High School</td>\n",
       "      <td>67</td>\n",
       "      <td>58</td>\n",
       "      <td>0</td>\n",
       "      <td>District</td>\n",
       "      <td>2917</td>\n",
       "      <td>1910635</td>\n",
       "    </tr>\n",
       "    <tr>\n",
       "      <th>4</th>\n",
       "      <td>4</td>\n",
       "      <td>Bonnie Ray</td>\n",
       "      <td>F</td>\n",
       "      <td>9th</td>\n",
       "      <td>Huang High School</td>\n",
       "      <td>97</td>\n",
       "      <td>84</td>\n",
       "      <td>0</td>\n",
       "      <td>District</td>\n",
       "      <td>2917</td>\n",
       "      <td>1910635</td>\n",
       "    </tr>\n",
       "  </tbody>\n",
       "</table>\n",
       "</div>"
      ],
      "text/plain": [
       "   Student ID       student_name gender grade        school_name  \\\n",
       "0           0       Paul Bradley      M   9th  Huang High School   \n",
       "1           1       Victor Smith      M  12th  Huang High School   \n",
       "2           2    Kevin Rodriguez      M  12th  Huang High School   \n",
       "3           3  Dr. Richard Scott      M  12th  Huang High School   \n",
       "4           4         Bonnie Ray      F   9th  Huang High School   \n",
       "\n",
       "   reading_score  math_score  School ID      type  size   budget  \n",
       "0             66          79          0  District  2917  1910635  \n",
       "1             94          61          0  District  2917  1910635  \n",
       "2             90          60          0  District  2917  1910635  \n",
       "3             67          58          0  District  2917  1910635  \n",
       "4             97          84          0  District  2917  1910635  "
      ]
     },
     "execution_count": 2,
     "metadata": {},
     "output_type": "execute_result"
    }
   ],
   "source": [
    "# Dependencies and Setup\n",
    "import pandas as pd\n",
    "from pathlib import Path\n",
    "\n",
    "# File to Load (Remember to Change These)\n",
    "school_data_to_load = Path(\"Resources/schools_complete.csv\")\n",
    "student_data_to_load = Path(\"Resources/students_complete.csv\")\n",
    "\n",
    "# Read School and Student Data File and store into Pandas DataFrames\n",
    "school_data = pd.read_csv(school_data_to_load)\n",
    "student_data = pd.read_csv(student_data_to_load)\n",
    "\n",
    "# Combine the data into a single dataset.  \n",
    "school_data_complete_df = pd.merge(student_data, school_data, how=\"left\", on=[\"school_name\", \"school_name\"])\n",
    "school_data_complete_df.head()"
   ]
  },
  {
   "cell_type": "code",
   "execution_count": 7,
   "id": "df741908",
   "metadata": {},
   "outputs": [
    {
     "name": "stdout",
     "output_type": "stream",
     "text": [
      "The total number of schools is 15.\n"
     ]
    }
   ],
   "source": [
    "# Calculate the total number of unique schools\n",
    "#first detemine the unique schools\n",
    "unique = school_data_complete_df[\"school_name\"].unique()\n",
    "school_count = school_data_complete_df[\"school_name\"].nunique()\n",
    "print(f'The total number of schools is {school_count}.')"
   ]
  },
  {
   "cell_type": "code",
   "execution_count": 8,
   "id": "d299252b",
   "metadata": {},
   "outputs": [
    {
     "name": "stdout",
     "output_type": "stream",
     "text": [
      "The total number of students is 39170.\n"
     ]
    }
   ],
   "source": [
    "#total Students\n",
    "student_count = school_data_complete_df[\"Student ID\"].count()\n",
    "print(f'The total number of students is {student_count}.')"
   ]
  },
  {
   "cell_type": "code",
   "execution_count": 16,
   "id": "31c59920",
   "metadata": {},
   "outputs": [
    {
     "name": "stdout",
     "output_type": "stream",
     "text": [
      "The total budget is $24649428.\n"
     ]
    }
   ],
   "source": [
    "#Total Budget is equal to the budget column for each unique school\n",
    "\n",
    "#set index to school name\n",
    "school_index_df = school_data_complete_df.set_index(\"school_name\")\n",
    "\n",
    "#now set unique budget to get each of the individual budgets per school as they are the same\n",
    "uniquebudget = school_index_df[\"budget\"].unique()\n",
    "\n",
    "#find the sum of all the unique budgets\n",
    "total_budget=sum(uniquebudget)\n",
    "\n",
    "\n",
    "print(f'The total budget is ${total_budget}.')"
   ]
  },
  {
   "cell_type": "code",
   "execution_count": 17,
   "id": "ca1c9305",
   "metadata": {},
   "outputs": [
    {
     "name": "stdout",
     "output_type": "stream",
     "text": [
      "The avearge math score is 78.98537145774827.\n"
     ]
    }
   ],
   "source": [
    "#find the avearge math score\n",
    "average_math = school_data_complete_df[\"math_score\"].mean()\n",
    "print(f'The avearge math score is {average_math}.')"
   ]
  },
  {
   "cell_type": "code",
   "execution_count": 18,
   "id": "e559e959",
   "metadata": {},
   "outputs": [
    {
     "name": "stdout",
     "output_type": "stream",
     "text": [
      "The avearge reading score is 81.87784018381414.\n"
     ]
    }
   ],
   "source": [
    "#find the avearge reading score\n",
    "average_read = school_data_complete_df[\"reading_score\"].mean()\n",
    "print(f'The avearge reading score is {average_read}.')"
   ]
  },
  {
   "cell_type": "code",
   "execution_count": 23,
   "id": "aaa48d1e",
   "metadata": {},
   "outputs": [
    {
     "name": "stdout",
     "output_type": "stream",
     "text": [
      "The percentage of students passing math is 74.9808526933878%.\n"
     ]
    }
   ],
   "source": [
    "#passing math scores are greater than or equal to 70%\n",
    "pass_math = school_data_complete_df[(school_data_complete_df[\"math_score\"]>=70)].count()[\"student_name\"]\n",
    "\n",
    "\n",
    "#find percentage of students passing math\n",
    "pass_math_percent = pass_math / float(student_count) * 100\n",
    "print(f'The percentage of students passing math is {pass_math_percent}%.')\n",
    "\n"
   ]
  },
  {
   "cell_type": "code",
   "execution_count": 24,
   "id": "ea1b189d",
   "metadata": {},
   "outputs": [
    {
     "name": "stdout",
     "output_type": "stream",
     "text": [
      "The percentage of students passing reading is 85.80546336482001%.\n"
     ]
    }
   ],
   "source": [
    "#passing math scores are greater than or equal to 70%\n",
    "pass_read = school_data_complete_df[(school_data_complete_df[\"reading_score\"]>=70)].count()[\"student_name\"]\n",
    "\n",
    "\n",
    "#find percentage of students passing math\n",
    "pass_read_percent = pass_read / float(student_count) * 100\n",
    "print(f'The percentage of students passing reading is {pass_read_percent}%.')\n"
   ]
  },
  {
   "cell_type": "code",
   "execution_count": 27,
   "id": "938f3875",
   "metadata": {},
   "outputs": [
    {
     "name": "stdout",
     "output_type": "stream",
     "text": [
      "The percentage of students that passed both math and reading is 65.17232575950983%.\n"
     ]
    }
   ],
   "source": [
    "# Use the following to calculate the percentage of students that passed math and reading\n",
    "passing_math_read = school_data_complete_df[\n",
    "    (school_data_complete_df[\"math_score\"] >= 70) & (school_data_complete_df[\"reading_score\"] >= 70)\n",
    "].count()[\"student_name\"]\n",
    "overall_passing_rate = passing_math_read /  float(student_count) * 100\n",
    "print(f'The percentage of students that passed both math and reading is {overall_passing_rate}%.')"
   ]
  },
  {
   "cell_type": "code",
   "execution_count": null,
   "id": "3948200e",
   "metadata": {},
   "outputs": [],
   "source": []
  }
 ],
 "metadata": {
  "kernelspec": {
   "display_name": "Python 3 (ipykernel)",
   "language": "python",
   "name": "python3"
  },
  "language_info": {
   "codemirror_mode": {
    "name": "ipython",
    "version": 3
   },
   "file_extension": ".py",
   "mimetype": "text/x-python",
   "name": "python",
   "nbconvert_exporter": "python",
   "pygments_lexer": "ipython3",
   "version": "3.10.11"
  }
 },
 "nbformat": 4,
 "nbformat_minor": 5
}
